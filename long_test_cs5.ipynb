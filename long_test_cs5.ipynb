{
 "cells": [
  {
   "cell_type": "markdown",
   "metadata": {},
   "source": [
    "### 1. Write a program that takes a non-negative integer as input, adds the digits of the integer repeatedly until the result is a single digit, and returns the digital root. The digital root is the final single-digit result obtained after adding the digits of the original integer repeatedly.\n",
    "\n",
    " \n",
    "\n",
    "For example, suppose the input integer is 9875. The sum of its digits is 9+8+7+5=29. Since 29 is not a single digit, we add its digits to obtain 2+9=11. Again, since 11 is not a single digit, we add its digits to obtain 1+1=2. The digital root of 9875 is 2.\n",
    "\n",
    " \n",
    "\n",
    "**Input**:\n",
    "\n",
    "A non-negative integer n\n",
    " \n",
    "\n",
    "**Output**:\n",
    "\n",
    "The digital root of the input integer n.\n",
    "Sample Output 1\n",
    "\n",
    "Enter a non-negative integer: 10\n",
    "The digital root of 10 is 1\n",
    "Sample Output 2\n",
    "\n",
    "Enter a non-negative integer: 55\n",
    "The digital root of 55 is 1\n",
    "Sample Output 3\n",
    "\n",
    "Enter a non-negative integer: 364\n",
    "The digital root of 364 is 4"
   ]
  },
  {
   "cell_type": "code",
   "execution_count": null,
   "metadata": {},
   "outputs": [],
   "source": [
    "num = int(input(\"Enter a non-negative integer: \"))\n",
    "original_num = num\n",
    "\n",
    "sum_of_digits = 0\n",
    "for digit in str(num):\n",
    "    sum_of_digits += int(digit)\n",
    "\n",
    "while sum_of_digits >= 10:\n",
    "    num = sum_of_digits\n",
    "    sum_of_digits = 0\n",
    "    for digit in str(num):\n",
    "        sum_of_digits += int(digit)    \n",
    "\n",
    "print(f\"The digital root of {original_num} is {sum_of_digits}\")"
   ]
  },
  {
   "cell_type": "markdown",
   "metadata": {},
   "source": [
    "### 2. Write a program that takes two integers and a float value for a percentage. If the first number is greater than the second number, take the percentage value of the given percentage. Do the following given the following conditions:\n",
    "\n",
    "If the percentage value is more than the second number, print \"I am greater even when I am divided.\"\n",
    "\n",
    "If the percentage value is more than half of the second number, print \"When you are divided, you fall.\"\n",
    "\n",
    "If the percentage value is lesser than the second number, print \"I cannot afford to lose some people.\"\n",
    " \n",
    "\n",
    "Otherwise, if the first number is lesser, print \"This is unwinnable.\"\n",
    "\n",
    "**Sample Output 1**\n",
    "\n",
    "Enter the first number: 10\n",
    "\n",
    "Enter the second number: 20\n",
    "\n",
    "Enter the percentage value: 50\n",
    "\n",
    "This is unwinnable.\n",
    "\n",
    "**Sample Output 2**\n",
    "\n",
    "Enter the first number: 5\n",
    "\n",
    "Enter the second number: 15\n",
    "\n",
    "Enter the percentage value: 75\n",
    "\n",
    "This is unwinnable.\n",
    "\n",
    "**Sample Output 3**\n",
    "\n",
    "Enter the first number: 100\n",
    "\n",
    "Enter the second number: 50\n",
    "\n",
    "Enter the percentage value: 25\n",
    "\n",
    "I cannot afford to lose some people.\n"
   ]
  },
  {
   "cell_type": "code",
   "execution_count": null,
   "metadata": {},
   "outputs": [],
   "source": [
    "firstInteger = int(input(\"Enter the first number: \"))\n",
    "secondInteger = int(input(\"Enter the second number: \"))\n",
    "percentage = float(input(\"Enter the percentage value: \"))\n",
    "\n",
    "if firstInteger > secondInteger:\n",
    "    if percentage > secondInteger:\n",
    "        print(\"I am greater even when I am divided.\")\n",
    "    elif percentage > secondInteger * 0.5:\n",
    "        print(\"When you are divided, you fall.\")\n",
    "    elif percentage < secondInteger:\n",
    "        print(\"I cannot afford to lose some people.\")\n",
    "else:\n",
    "    print(\"This is unwinnable.\")"
   ]
  },
  {
   "cell_type": "markdown",
   "metadata": {},
   "source": [
    "### 3. Create a list of numbers until -1 is pressed. Count the numbers with duplicate values.\n",
    "And output the sum of these values.\n",
    "\n",
    "Input: [3,4,5,5,2,4]\n",
    "\n",
    "output:\n",
    "\n",
    "Duplicate: 2\n",
    "\n",
    "Total: 18\n"
   ]
  },
  {
   "cell_type": "code",
   "execution_count": 40,
   "metadata": {},
   "outputs": [
    {
     "name": "stdout",
     "output_type": "stream",
     "text": [
      "Duplicate: 2\n",
      "Total: 18\n"
     ]
    }
   ],
   "source": [
    "list = []\n",
    "duplicates = []\n",
    "while True:\n",
    "    num = int(input(\"\"))\n",
    "    if num == -1:\n",
    "        break\n",
    "    \n",
    "    list.append(num)\n",
    "    # print(f\"list: {list}\")\n",
    "\n",
    "for nums in list:\n",
    "    if list.count(int(nums)) > 1:\n",
    "        duplicates.append(int(nums))\n",
    "        # print(f'duplicates: {duplicates}')\n",
    "\n",
    "sum_dup = 0\n",
    "for i in duplicates:\n",
    "    sum_dup += int(i)\n",
    "    # print(f\"sum: {sum}\")\n",
    "\n",
    "for dup in duplicates:\n",
    "    if duplicates.count(int(dup)) > 1:\n",
    "        duplicates.remove(int(dup))\n",
    "        # print(f'duplicates: {duplicates}')\n",
    "\n",
    "print(f\"\"\"Duplicate: {len(duplicates)}\n",
    "Total: {sum_dup}\"\"\")"
   ]
  },
  {
   "cell_type": "markdown",
   "metadata": {},
   "source": [
    "### 4. Create a list of 1 digit numbers until -1 is pressed. Output the sum of all even numbers. \n",
    "Output the product of all odd numbers divided by 2.\n"
   ]
  },
  {
   "cell_type": "code",
   "execution_count": 39,
   "metadata": {},
   "outputs": [
    {
     "name": "stdout",
     "output_type": "stream",
     "text": [
      "Sum of all even numbers: 16\n",
      "Product of all odd numbers divided by 2: 1012.5\n"
     ]
    }
   ],
   "source": [
    "list = []\n",
    "\n",
    "while True:\n",
    "    num = int(input(\"\"))\n",
    "    if num == -1:\n",
    "        break\n",
    "    list.append(num)\n",
    "\n",
    "sum_even = 0\n",
    "product_odd = 1\n",
    "for num in list:\n",
    "    if num % 2 == 0:\n",
    "        sum_even += num\n",
    "    else:\n",
    "        product_odd *= num\n",
    "product_odd /= 2\n",
    "\n",
    "print(f\"\"\"Sum of all even numbers: {sum_even}\n",
    "Product of all odd numbers divided by 2: {product_odd}\"\"\")\n",
    "\n"
   ]
  }
 ],
 "metadata": {
  "kernelspec": {
   "display_name": "Python 3",
   "language": "python",
   "name": "python3"
  },
  "language_info": {
   "codemirror_mode": {
    "name": "ipython",
    "version": 3
   },
   "file_extension": ".py",
   "mimetype": "text/x-python",
   "name": "python",
   "nbconvert_exporter": "python",
   "pygments_lexer": "ipython3",
   "version": "3.11.5"
  }
 },
 "nbformat": 4,
 "nbformat_minor": 2
}
