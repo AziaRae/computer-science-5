{
 "cells": [
  {
   "cell_type": "code",
   "execution_count": null,
   "metadata": {},
   "outputs": [],
   "source": [
    "first_number = float(input(\"Enter first decimal number: \"))\n",
    "second_number = float(input(\"Enter second decimal number: \"))\n",
    "third_number = float(input(\"Enter third decimal number: \"))\n",
    "\n",
    "if third_number > first_number + second_number:\n",
    "    print(f'{first_number:.2f} {second_number:.2f} {third_number}')\n",
    "else:\n",
    "    print(f'{first_number:.2f} {second_number:.2f}')\n",
    "\n",
    "\n",
    "    years = int(input(\"Enter years of work: \"))\n",
    "work = input(\"Enter kind of work: \")\n",
    "\n",
    "if work == 'B':\n",
    "    if years < 2:\n",
    "        salary = 10000\n",
    "    elif years < 5:\n",
    "        salary = 12000\n",
    "    else:\n",
    "        salary = 15000\n",
    "else:\n",
    "    if years < 2:\n",
    "        salary = 20000\n",
    "    elif years < 5:\n",
    "        salary = 40000\n",
    "    else:\n",
    "        salary = 75000\n",
    "\n",
    "print(f'')\n"
   ]
  },
  {
   "cell_type": "code",
   "execution_count": null,
   "metadata": {},
   "outputs": [],
   "source": [
    "name = input(\"Enter name: \")\n",
    "last_letter = name[-1].lower()\n",
    "\n",
    "\n",
    "if last_letter in ('a', 'e', 'i', 'o', 'u'):\n",
    "    age = int(input(\"Enter age: \"))\n",
    "    if age % 2 == 0:\n",
    "        print(\"Wow, you're special!\")\n",
    "    else:\n",
    "        birth_year = int(input(\"Enter birth year: \"))\n",
    "        if birth_year % 2 == 0:\n",
    "            print(\"Oh, you're still special!\")\n",
    "        else:\n",
    "            print(\"You will be special next year.\")\n",
    "else:\n",
    "    print(\"You're awesome!\")"
   ]
  },
  {
   "cell_type": "code",
   "execution_count": null,
   "metadata": {},
   "outputs": [],
   "source": [
    "remaining_value = int(input(\"Enter a value: \"))\n",
    "\n",
    "while remaining_value > 0:\n",
    "    subtrahend = int(input(\"Enter a subtrahend: \"))\n",
    "    print(f'{remaining_value - subtrahend = }')"
   ]
  }
 ],
 "metadata": {
  "kernelspec": {
   "display_name": "Python 3",
   "language": "python",
   "name": "python3"
  },
  "language_info": {
   "codemirror_mode": {
    "name": "ipython",
    "version": 3
   },
   "file_extension": ".py",
   "mimetype": "text/x-python",
   "name": "python",
   "nbconvert_exporter": "python",
   "pygments_lexer": "ipython3",
   "version": "3.11.5"
  },
  "orig_nbformat": 4
 },
 "nbformat": 4,
 "nbformat_minor": 2
}
