{
 "cells": [
  {
   "cell_type": "markdown",
   "metadata": {},
   "source": [
    "### Ask for the user's age"
   ]
  },
  {
   "cell_type": "code",
   "execution_count": null,
   "metadata": {},
   "outputs": [],
   "source": [
    "def age(n):\n",
    "    if n < 18:\n",
    "        age = 'a minor'\n",
    "    else:\n",
    "        age = 'an adult'\n",
    "\n",
    "    print(f'The user is {age}')\n",
    "\n",
    "a = int(input(\"[1] What is your age? \"))\n",
    "age(a)\n",
    "\n",
    "age(int(input(\"[2] What is your age?\")))\n"
   ]
  },
  {
   "cell_type": "markdown",
   "metadata": {},
   "source": [
    "# GWA"
   ]
  },
  {
   "cell_type": "code",
   "execution_count": 24,
   "metadata": {},
   "outputs": [
    {
     "name": "stdout",
     "output_type": "stream",
     "text": [
      "The letter grade of 65 is D\n"
     ]
    }
   ],
   "source": [
    "import sys\n",
    "\n",
    "def grades(grade):\n",
    "    if grade > 100:\n",
    "        print(\"Out of bounds\")\n",
    "    else:\n",
    "        if grade >= 97:\n",
    "            letter_grade = 'A+'\n",
    "        elif grade >= 93:\n",
    "            letter_grade = 'A'\n",
    "        elif grade >= 90:\n",
    "            letter_grade = 'A-'\n",
    "        elif grade >= 87:\n",
    "            letter_grade = 'B+'\n",
    "        elif grade >= 83:\n",
    "            letter_grade = 'B'\n",
    "        elif grade >= 80:\n",
    "            letter_grade = 'B-'\n",
    "        elif grade >= 77:\n",
    "            letter_grade = 'C+'\n",
    "        elif grade >= 73:\n",
    "            letter_grade = 'C'\n",
    "        elif grade >= 70:\n",
    "            letter_grade = 'C-'\n",
    "        elif grade >= 67:\n",
    "            letter_grade = 'D+'\n",
    "        elif grade >= 63:\n",
    "            letter_grade = 'D'\n",
    "        elif grade >= 60:\n",
    "            letter_grade = 'D-'\n",
    "        else:\n",
    "            letter_grade = 'F'\n",
    "        \n",
    "        print(f'The letter grade of {grade} is {letter_grade}')\n",
    "\n",
    "\n",
    "grade = int(input(\"What's your grade? \"))\n",
    "grades(grade)"
   ]
  }
 ],
 "metadata": {
  "kernelspec": {
   "display_name": "Python 3",
   "language": "python",
   "name": "python3"
  },
  "language_info": {
   "codemirror_mode": {
    "name": "ipython",
    "version": 3
   },
   "file_extension": ".py",
   "mimetype": "text/x-python",
   "name": "python",
   "nbconvert_exporter": "python",
   "pygments_lexer": "ipython3",
   "version": "3.11.5"
  },
  "orig_nbformat": 4
 },
 "nbformat": 4,
 "nbformat_minor": 2
}
