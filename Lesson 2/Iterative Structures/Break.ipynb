{
 "cells": [
  {
   "cell_type": "markdown",
   "metadata": {},
   "source": [
    "# 3. Broken Counter Pt. 2\n",
    "\n",
    "In the code editor, there's an existing code that asks the user to input an integer n and loops through the numbers from 1 to 1000.\n",
    "\n",
    "Supposedly, it should do an immediate stop if the current number is divisible by the number inputted.\n",
    "\n",
    "Update the code in the body of the loop but do not update the condition"
   ]
  },
  {
   "cell_type": "code",
   "execution_count": null,
   "metadata": {},
   "outputs": [],
   "source": [
    "x = int(input(\"Enter x: \"))\n",
    "\n",
    "for i in range(1, 1001):\n",
    "    print(i)\n",
    "    if i % x == 0:\n",
    "        break"
   ]
  },
  {
   "cell_type": "markdown",
   "metadata": {},
   "source": [
    "# 4. Stop the Infinity Loop\n",
    "\n",
    "In the code editor there's an existing while loop that continuously asks the user to input an integer.\n",
    "\n",
    " \n",
    "\n",
    "The loop should stop if the inputted value is 0. Currently, this results to an infinite loop.\n",
    "\n",
    " \n",
    "\n",
    "Update the code by adding the appropriate lines of code in the body of the loop but do not edit the condition of the loop."
   ]
  },
  {
   "cell_type": "code",
   "execution_count": 3,
   "metadata": {},
   "outputs": [
    {
     "name": "stdout",
     "output_type": "stream",
     "text": [
      "You've inputted 3\n",
      "You've inputted 2\n",
      "You've inputted 5\n",
      "You've inputted 0\n"
     ]
    }
   ],
   "source": [
    "while(True):\n",
    "    n = int(input())\n",
    "    print(f\"You've inputted {n}\")\n",
    "    if n == 0:\n",
    "        break"
   ]
  },
  {
   "cell_type": "markdown",
   "metadata": {},
   "source": [
    "# 5. Until Four\n",
    "\n",
    "In the code editor, there's an existing code that asks the user to input an integer. Loop through all of its digits starting from the ones digit (rightmost digit) going to the leftmost digit and print each digit per line. If a digit encountered is divisible by 4, do an immediate exit of the loop.\n",
    "\n"
   ]
  },
  {
   "cell_type": "code",
   "execution_count": 11,
   "metadata": {},
   "outputs": [
    {
     "name": "stdout",
     "output_type": "stream",
     "text": [
      "0\n"
     ]
    }
   ],
   "source": [
    "n = int(input(\"Enter integer value: \"))\n",
    "\n",
    "digits = []\n",
    "for digit in str(n):\n",
    "    digits.append(digit)\n",
    "\n",
    "digits.reverse()\n",
    "\n",
    "for num in digits:\n",
    "    print(num)\n",
    "    if int(num) % 4 == 0:\n",
    "        break\n"
   ]
  },
  {
   "cell_type": "markdown",
   "metadata": {},
   "source": [
    "# 6. C.O..D...E?\n",
    "In the code editor, there's an initial code that repeatedly asks the user to input capital letters.\n",
    "\n",
    " \n",
    "\n",
    "Supposedly, the loop should stop if the letter's 'C', 'O', 'D', 'E' has already been inputted. But currently, this results to an infinite loop.\n",
    "\n",
    " \n",
    "\n",
    "Update the body of the loop and add the appropriate code but do not update the condition of the loop.\n",
    "\n",
    " \n",
    "\n",
    "Note: It is assured that all inputted characters are capital letters."
   ]
  },
  {
   "cell_type": "code",
   "execution_count": 14,
   "metadata": {},
   "outputs": [],
   "source": [
    "while True:\n",
    "    letter = input(\"Enter letter: \")\n",
    "    if letter in ['C', 'O', 'D', 'E']:\n",
    "        break"
   ]
  }
 ],
 "metadata": {
  "kernelspec": {
   "display_name": "Python 3",
   "language": "python",
   "name": "python3"
  },
  "language_info": {
   "codemirror_mode": {
    "name": "ipython",
    "version": 3
   },
   "file_extension": ".py",
   "mimetype": "text/x-python",
   "name": "python",
   "nbconvert_exporter": "python",
   "pygments_lexer": "ipython3",
   "version": "3.11.5"
  },
  "orig_nbformat": 4
 },
 "nbformat": 4,
 "nbformat_minor": 2
}
