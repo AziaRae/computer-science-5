{
 "cells": [
  {
   "cell_type": "markdown",
   "metadata": {},
   "source": [
    "# 1. Counter Skipper\n",
    "In the code editor, there is already an existing code that loops through and print the numbers from 1 to 100.\n",
    "\n",
    " \n",
    "\n",
    "Modify this code by adding a condition that skips the numbers if they are even.\n",
    "\n",
    "You must use the `continue` keyword to do this."
   ]
  },
  {
   "cell_type": "code",
   "execution_count": null,
   "metadata": {},
   "outputs": [],
   "source": [
    "i = 1\n",
    "\n",
    "while(i <= 100):\n",
    "\n",
    "    if i % 2 == 0:\n",
    "        i += 1\n",
    "        continue\n",
    "    else:\n",
    "        print(\"Current value of i = %d\" % i)\n",
    "        i += 1\n"
   ]
  },
  {
   "cell_type": "markdown",
   "metadata": {},
   "source": [
    "# 2. Adder Skipper\n",
    "Ask the user to input two integers, `x` and `y`.\n",
    "\n",
    "Then, compute for the sum of all numbers that are not divisible by 7 from `x` to `y` (inclusive) and print it on the next line.\n",
    "\n",
    " \n",
    "\n",
    "Implement by using `continue` to skip numbers divisible by `7`."
   ]
  },
  {
   "cell_type": "code",
   "execution_count": null,
   "metadata": {},
   "outputs": [],
   "source": [
    "x = int(input(\"Enter integer x: \"))\n",
    "y = int(input(\"Enter integer y: \"))\n",
    "sum = 0\n",
    "\n",
    "for num in range(x, y+1):\n",
    "    if num % 7 == 0:\n",
    "        continue\n",
    "    sum += num\n",
    "\n",
    "print(f'Sum of all numbers: {sum}')\n"
   ]
  },
  {
   "cell_type": "markdown",
   "metadata": {},
   "source": [
    "# 3. I Don't Want my X's Number\n",
    "Ask the user to continuously input characters while the character inputted is not yet equal to the letter 'X' (small or capital).\n",
    "\n",
    " \n",
    "\n",
    "For each character that is inputted, print it 3 times.\n",
    "\n",
    "However, if the character inputted is a number, you need to skip it using the continue keyword."
   ]
  },
  {
   "cell_type": "code",
   "execution_count": null,
   "metadata": {},
   "outputs": [],
   "source": [
    "while True:\n",
    "    char = input(\"Enter a character: \")\n",
    "    try:\n",
    "        result = int(char)\n",
    "        conversion = True\n",
    "    except ValueError:\n",
    "        conversion = False\n",
    "        result = None\n",
    "    if conversion == True:\n",
    "        continue\n",
    "    print(f'{char} {char} {char}')\n",
    "    if char in ['X', 'x']:\n",
    "        break"
   ]
  },
  {
   "cell_type": "markdown",
   "metadata": {},
   "source": [
    "# 4. Z Skipper\n",
    "Ask the user to input three integers, x, y, and z.\n",
    "\n",
    "Print all the numbers from x to y (inclusive), but make sure to skip the numbers that are divisible by z.\n",
    "\n",
    "Use the continuekeyword to skip those numbers."
   ]
  },
  {
   "cell_type": "code",
   "execution_count": null,
   "metadata": {},
   "outputs": [],
   "source": [
    "x = int(input(\"Enter first integer: \"))\n",
    "y = int(input(\"Enter second integer: \"))\n",
    "z = int(input(\"Enter third integer: \"))\n",
    "\n",
    "for num in range(x, y+1):\n",
    "    if num % z == 0:\n",
    "        continue\n",
    "    \n",
    "    print(num)"
   ]
  },
  {
   "cell_type": "markdown",
   "metadata": {},
   "source": [
    "# 5. 3-scriminator\n",
    "Ask the user to input an integer.\n",
    "\n",
    "Sum up all of the digits but make sure to skip the digits that are divisible by 3 using the continuekeyword.\n",
    "\n",
    " \n",
    "\n",
    "Print the sum on the next line."
   ]
  },
  {
   "cell_type": "code",
   "execution_count": 11,
   "metadata": {},
   "outputs": [
    {
     "name": "stdout",
     "output_type": "stream",
     "text": [
      "Sum of all digits: 3\n"
     ]
    }
   ],
   "source": [
    "num = int(input(\"Enter an integer: \"))\n",
    "sum = 0\n",
    "\n",
    "for digit in str(num):\n",
    "    int(digit)\n",
    "    if int(digit) % 3 == 0:\n",
    "        continue\n",
    "    \n",
    "    sum += int(digit)\n",
    "\n",
    "print(f'Sum of all digits: {sum}')"
   ]
  },
  {
   "cell_type": "markdown",
   "metadata": {},
   "source": [
    "# 6. Only Ones\n",
    "Ask the user to continuously input an integer while the integer is not yet -1.\n",
    "\n",
    " \n",
    "\n",
    "Create a variable that will hold the sum of all the integers inputted, including the -1.\n",
    "\n",
    "However, you must skip from adding if the inputted integer has two digits using continue keyword.\n",
    "\n",
    " \n",
    "\n",
    "After finally receiving a -1 input, print the sum on the next line."
   ]
  },
  {
   "cell_type": "code",
   "execution_count": 15,
   "metadata": {},
   "outputs": [
    {
     "name": "stdout",
     "output_type": "stream",
     "text": [
      "Sum of Integers: 104\n"
     ]
    }
   ],
   "source": [
    "sum = 0\n",
    "\n",
    "while True:\n",
    "    num = int(input(\"Enter an integer: \"))\n",
    "    if num // 10 >= 1 and num // 10 <= 9:\n",
    "        continue\n",
    "    sum += num\n",
    "    if num == -1:\n",
    "        break\n",
    "\n",
    "print(f'Sum of Integers: {sum}')"
   ]
  }
 ],
 "metadata": {
  "kernelspec": {
   "display_name": "Python 3",
   "language": "python",
   "name": "python3"
  },
  "language_info": {
   "codemirror_mode": {
    "name": "ipython",
    "version": 3
   },
   "file_extension": ".py",
   "mimetype": "text/x-python",
   "name": "python",
   "nbconvert_exporter": "python",
   "pygments_lexer": "ipython3",
   "version": "3.11.5"
  },
  "orig_nbformat": 4
 },
 "nbformat": 4,
 "nbformat_minor": 2
}
