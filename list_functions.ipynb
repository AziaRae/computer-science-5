{
 "cells": [
  {
   "cell_type": "code",
   "execution_count": null,
   "metadata": {},
   "outputs": [],
   "source": [
    "list = ['UmPfe', 'EZVqh', 'FURjF', 'PPWYf', 'ZIQoJ', 'gVXBS', 'ZVZvy', 'gqrTR', 'ECvRC', 'BtqRc', 'JIwwM', 'FGMAR', 'MnPSy', 'UTnOA', 'NaJeE', 'VsaqY', 'EykRM', 'ouvzr', 'tCZFu', 'PfelF']\n",
    "\n",
    "item = input(\"Enter an item: \")\n",
    "\n",
    "list.append(item)\n",
    "\n",
    "print(list)"
   ]
  },
  {
   "cell_type": "code",
   "execution_count": null,
   "metadata": {},
   "outputs": [],
   "source": [
    "list = ['UmPfe', 'EZVqh', 'FURjF', 'PPWYf', 'ZIQoJ', 'gVXBS', 'ZVZvy', 'gqrTR', 'ECvRC', 'BtqRc', 'JIwwM', 'FGMAR', 'MnPSy', 'UTnOA', 'NaJeE', 'VsaqY', 'EykRM', 'ouvzr', 'tCZFu', 'PfelF']\n",
    "\n",
    "item = input(\"Enter an item: \")\n",
    "\n",
    "index = int(input(\"Enter index to insert in: \"))\n",
    "\n",
    "list.insert(index, item)\n",
    "\n",
    "print(list)"
   ]
  },
  {
   "cell_type": "code",
   "execution_count": null,
   "metadata": {},
   "outputs": [],
   "source": [
    "list = ['UmPfe', 'EZVqh', 'FURjF', 'PPWYf', 'ZIQoJ', 'gVXBS', 'ZVZvy', 'gqrTR', 'ECvRC', 'BtqRc', 'JIwwM', 'FGMAR', 'MnPSy', 'UTnOA', 'NaJeE', 'VsaqY', 'EykRM', 'ouvzr', 'tCZFu', 'PfelF']\n",
    "\n",
    "for i in range(4):\n",
    "    list.pop()\n",
    "\n",
    "print(list)"
   ]
  },
  {
   "cell_type": "code",
   "execution_count": null,
   "metadata": {},
   "outputs": [],
   "source": [
    "size = int(input(\"Enter list size: \"))\n",
    "\n",
    "list = []\n",
    "for i in range(size):\n",
    "    element = int(input(f\"Enter element {i+1}: \"))\n",
    "    list.append(element)\n",
    "\n",
    "count = int(input(\"Enter a number to count: \"))\n",
    "\n",
    "print(f'Number count: {list.count(count)}')"
   ]
  },
  {
   "cell_type": "code",
   "execution_count": null,
   "metadata": {},
   "outputs": [],
   "source": [
    "size = int(input(\"Enter list size: \"))\n",
    "\n",
    "list = []\n",
    "for i in range(size):\n",
    "    element = int(input(f\"Enter element {i+1}: \"))\n",
    "    list.append(element)\n",
    "\n",
    "print(f'List: {list}')\n",
    "\n",
    "list.sort()\n",
    "\n",
    "print(f\"Sorted list: {list}\")"
   ]
  },
  {
   "cell_type": "code",
   "execution_count": 18,
   "metadata": {},
   "outputs": [
    {
     "name": "stdout",
     "output_type": "stream",
     "text": [
      "List: ['app', 'ee', 'ff']\n",
      "Reversed list: ['ff', 'ee', 'app']\n"
     ]
    }
   ],
   "source": [
    "size = int(input(\"Enter list size: \"))\n",
    "\n",
    "list = []\n",
    "for i in range(size):\n",
    "    string = input(f\"Enter string {i+1}: \")\n",
    "    list += [string]\n",
    "\n",
    "print(f'List: {list}')\n",
    "\n",
    "list.reverse()\n",
    "\n",
    "print(f'Reversed list: {list}')"
   ]
  }
 ],
 "metadata": {
  "kernelspec": {
   "display_name": "Python 3",
   "language": "python",
   "name": "python3"
  },
  "language_info": {
   "codemirror_mode": {
    "name": "ipython",
    "version": 3
   },
   "file_extension": ".py",
   "mimetype": "text/x-python",
   "name": "python",
   "nbconvert_exporter": "python",
   "pygments_lexer": "ipython3",
   "version": "3.11.5"
  },
  "orig_nbformat": 4
 },
 "nbformat": 4,
 "nbformat_minor": 2
}
