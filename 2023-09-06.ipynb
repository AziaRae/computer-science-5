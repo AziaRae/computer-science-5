{
 "cells": [
  {
   "cell_type": "code",
   "execution_count": 1,
   "metadata": {},
   "outputs": [
    {
     "name": "stdout",
     "output_type": "stream",
     "text": [
      "cost per square inch = 19.760677734289725\n"
     ]
    }
   ],
   "source": [
    "import numpy as np\n",
    "\n",
    "# x = 5\n",
    "# y = 7\n",
    "# print(f'{x + y = }')\n",
    "\n",
    "# print(\"Ha\" * x)\n",
    "\n",
    "\n",
    "# a = int(input(\"First Number: \"))\n",
    "# b = int(input(\"Second Number: \"))\n",
    "\n",
    "# print(f'{a + b = }')\n",
    "\n",
    "\n",
    "def pizzaCost():\n",
    "    diameter = int and float(input(\"Enter Diameter: \"))\n",
    "    radius = diameter / 2\n",
    "\n",
    "    price = int and float(input(\"Enter Pizza Price: \"))\n",
    "\n",
    "    Area = np.pi * (radius ** 2)\n",
    "    cost = price / Area\n",
    "\n",
    "    print(f'cost per square inch = {cost}')\n",
    "\n",
    "pizzaCost()"
   ]
  }
 ],
 "metadata": {
  "kernelspec": {
   "display_name": "Python 3",
   "language": "python",
   "name": "python3"
  },
  "language_info": {
   "codemirror_mode": {
    "name": "ipython",
    "version": 3
   },
   "file_extension": ".py",
   "mimetype": "text/x-python",
   "name": "python",
   "nbconvert_exporter": "python",
   "pygments_lexer": "ipython3",
   "version": "3.11.5"
  },
  "orig_nbformat": 4
 },
 "nbformat": 4,
 "nbformat_minor": 2
}
