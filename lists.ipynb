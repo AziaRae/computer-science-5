{
 "cells": [
  {
   "cell_type": "code",
   "execution_count": 2,
   "metadata": {},
   "outputs": [
    {
     "name": "stdout",
     "output_type": "stream",
     "text": [
      "Sum: 26\n"
     ]
    }
   ],
   "source": [
    "list = [6, 1, 15, 6, 13, 15, 4, 8, 12, 5]\n",
    "\n",
    "sum = list[1] + list[4] + list[8]\n",
    "print(f'Sum: {sum}')"
   ]
  },
  {
   "cell_type": "code",
   "execution_count": 6,
   "metadata": {},
   "outputs": [
    {
     "name": "stdout",
     "output_type": "stream",
     "text": [
      "Element: 2\n"
     ]
    }
   ],
   "source": [
    "size = int(input(\"Enter list size: \"))\n",
    "\n",
    "list = []\n",
    "for i in range(size):\n",
    "    element = int(input(f\"Enter element {i+1}: \"))\n",
    "    list.append(element)\n",
    "\n",
    "index = int(input(\"Enter index: \"))\n",
    "\n",
    "print(f'Element: {list[index]}')"
   ]
  },
  {
   "cell_type": "code",
   "execution_count": 7,
   "metadata": {},
   "outputs": [
    {
     "name": "stdout",
     "output_type": "stream",
     "text": [
      "Last element: 3\n"
     ]
    }
   ],
   "source": [
    "size = int(input(\"Enter list size: \"))\n",
    "\n",
    "list = []\n",
    "for i in range(size):\n",
    "    element = int(input(f\"Enter element {i+1}: \"))\n",
    "    list.append(element)\n",
    "\n",
    "print(f'Last element: {list[-1]}')"
   ]
  },
  {
   "cell_type": "code",
   "execution_count": 8,
   "metadata": {},
   "outputs": [
    {
     "name": "stdout",
     "output_type": "stream",
     "text": [
      "Product: 11.80\n"
     ]
    }
   ],
   "source": [
    "list = [2.3, 7.72, 5.94, 7.85, 5.13, 5.29, 8.84, 4.1, 10.31, 2.96]\n",
    "\n",
    "print(f'Product: {list[0] * list[4]:.2f}')"
   ]
  },
  {
   "cell_type": "code",
   "execution_count": 10,
   "metadata": {},
   "outputs": [
    {
     "name": "stdout",
     "output_type": "stream",
     "text": [
      "Sum of first and last: 8\n",
      "Product of second and second to the last: 24\n"
     ]
    }
   ],
   "source": [
    "size = int(input(\"Enter size of the first list: \"))\n",
    "\n",
    "list = []\n",
    "for i in range(size):\n",
    "    element = int(input(f\"Enter element {i+1}: \"))\n",
    "    list.append(element)\n",
    "\n",
    "first_element = list[0]\n",
    "second_element = list[1]\n",
    "\n",
    "size = int(input(\"Enter size of the second list: \"))\n",
    "\n",
    "list = []\n",
    "for i in range(size):\n",
    "    element = int(input(f\"Enter element {i+1}: \"))\n",
    "    list.append(element)\n",
    "\n",
    "last_element = list[-1]\n",
    "second_to_the_last_element = list[-2]\n",
    "\n",
    "sum = first_element + last_element\n",
    "product = second_element * second_to_the_last_element\n",
    "\n",
    "print(f'''Sum of first and last: {sum}\n",
    "Product of second and second to the last: {product}''')"
   ]
  },
  {
   "cell_type": "code",
   "execution_count": 26,
   "metadata": {},
   "outputs": [
    {
     "name": "stdout",
     "output_type": "stream",
     "text": [
      "Middle element: 3\n"
     ]
    }
   ],
   "source": [
    "size = int(input(\"Enter size of the list: \"))\n",
    "\n",
    "list = []\n",
    "for i in range(size):\n",
    "    element = int(input(f\"Enter element {i+1}: \"))\n",
    "    list.append(element)\n",
    "\n",
    "if size % 2 == 0:\n",
    "    start_range = int(size / 2) - 1\n",
    "    print(f'Middle elements: {list[start_range:start_range + 2]}')\n",
    "else:\n",
    "    print(f'Middle element: {int(list[int((size - 1) / 2)])}')\n"
   ]
  }
 ],
 "metadata": {
  "kernelspec": {
   "display_name": "Python 3",
   "language": "python",
   "name": "python3"
  },
  "language_info": {
   "codemirror_mode": {
    "name": "ipython",
    "version": 3
   },
   "file_extension": ".py",
   "mimetype": "text/x-python",
   "name": "python",
   "nbconvert_exporter": "python",
   "pygments_lexer": "ipython3",
   "version": "3.11.5"
  },
  "orig_nbformat": 4
 },
 "nbformat": 4,
 "nbformat_minor": 2
}
